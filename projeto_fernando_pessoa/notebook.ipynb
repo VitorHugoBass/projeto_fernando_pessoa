{
 "cells": [
  {
   "metadata": {
    "ExecuteTime": {
     "end_time": "2025-09-15T03:10:03.550336Z",
     "start_time": "2025-09-15T03:10:03.301776Z"
    }
   },
   "cell_type": "code",
   "source": [
    "import requests\n",
    "from bs4 import BeautifulSoup\n",
    "import sqlite3\n",
    "import os\n"
   ],
   "id": "cbd83413d008fec0",
   "outputs": [],
   "execution_count": 1
  },
  {
   "metadata": {
    "ExecuteTime": {
     "end_time": "2025-09-15T03:11:51.940229Z",
     "start_time": "2025-09-15T03:11:51.930970Z"
    }
   },
   "cell_type": "code",
   "source": [
    "def _fix_mojibake(s: str) -> str:\n",
    "    if not s:\n",
    "        return s\n",
    "    if 'Ã' in s or 'Â' in s:\n",
    "        for enc in ('latin1', 'cp1252'):\n",
    "            try:\n",
    "                fixed = s.encode(enc).decode('utf-8')\n",
    "                if (fixed.count('Ã') + fixed.count('Â')) < (s.count('Ã') + s.count('Â')):\n",
    "                    return fixed\n",
    "                return fixed\n",
    "            except Exception:\n",
    "                continue\n",
    "    return s\n",
    "\n",
    "\n",
    "def inicializar_banco(db_path=\"projeto_fernando_pessoa/textos.db\"):\n",
    "    criar = not os.path.exists(db_path)\n",
    "    conn = sqlite3.connect(db_path)\n",
    "    if criar:\n",
    "        cursor = conn.cursor()\n",
    "        cursor.execute(\n",
    "            \"\"\"\n",
    "            CREATE TABLE textos (\n",
    "                id INTEGER PRIMARY KEY,\n",
    "                autor TEXT,\n",
    "                titulo TEXT,\n",
    "                texto TEXT\n",
    "            )\n",
    "            \"\"\"\n",
    "        )\n",
    "        conn.commit()\n",
    "    return conn\n",
    "\n",
    "\n",
    "def ja_existe(conn, texto_id):\n",
    "    cursor = conn.cursor()\n",
    "    cursor.execute(\"SELECT 1 FROM textos WHERE id=?\", (texto_id,))\n",
    "    return cursor.fetchone() is not None\n",
    "\n",
    "\n",
    "def salvar_texto(conn, texto_id, autor, titulo, texto):\n",
    "    cursor = conn.cursor()\n",
    "    cursor.execute(\n",
    "        \"INSERT OR REPLACE INTO textos (id, autor, titulo, texto) VALUES (?, ?, ?, ?)\",\n",
    "        (texto_id, autor, titulo, texto),\n",
    "    )\n",
    "    conn.commit()\n",
    "\n",
    "\n",
    "def buscar_textos_por_autores(autores: list, inicio: int = 1, fim: int = 5000, db_path=\"textos.db\"):\n",
    "    base_url = \"http://arquivopessoa.net/textos/{}\"\n",
    "    resultados = {autor: {} for autor in autores}\n",
    "\n",
    "    conn = inicializar_banco(db_path)\n",
    "\n",
    "    for i in range(inicio, fim + 1):\n",
    "        if ja_existe(conn, i):\n",
    "            print(f\"ID {i} já existe no banco, pulando...\")\n",
    "            continue\n",
    "\n",
    "        url = base_url.format(i)\n",
    "        try:\n",
    "            response = requests.get(url, timeout=8)\n",
    "            if response.status_code != 200:\n",
    "                continue\n",
    "\n",
    "            soup = BeautifulSoup(response.content, \"html.parser\")\n",
    "\n",
    "            autor_div = soup.find(\"div\", class_=\"autor\")\n",
    "            if not autor_div:\n",
    "                continue\n",
    "\n",
    "            autor_encontrado = _fix_mojibake(autor_div.get_text(strip=True))\n",
    "\n",
    "            if autor_encontrado in resultados:\n",
    "                titulo_tag = soup.find(\"h1\", class_=\"titulo-texto\")\n",
    "                titulo = _fix_mojibake(titulo_tag.get_text(strip=True) if titulo_tag else \"Sem título\")\n",
    "\n",
    "                texto_div = soup.find(\"div\", class_=\"texto-poesia\")\n",
    "                texto = _fix_mojibake(texto_div.get_text(\"\\n\", strip=True) if texto_div else \"Sem texto\")\n",
    "\n",
    "                resultados[autor_encontrado][i] = [titulo, texto]\n",
    "                salvar_texto(conn, i, autor_encontrado, titulo, texto)\n",
    "                print(f\"Autor '{autor_encontrado}' encontrado no ID {i} -> {titulo}\")\n",
    "\n",
    "        except requests.RequestException as e:\n",
    "            print(f\"Erro ao acessar {url}: {e}\")\n",
    "\n",
    "    conn.close()\n",
    "    return resultados"
   ],
   "id": "7ac0ed1d844be7a2",
   "outputs": [],
   "execution_count": 2
  },
  {
   "metadata": {
    "ExecuteTime": {
     "end_time": "2025-09-14T23:55:22.039426Z",
     "start_time": "2025-09-14T23:55:18.372116Z"
    }
   },
   "cell_type": "code",
   "source": [
    "\n",
    "if __name__ == \"__main__\":\n",
    "    autores = [\"Alberto Caeiro\", \"Álvaro de Campos\", \"Ricardo Reis\", \"Bernardo Soares\"]\n",
    "    resultados = buscar_textos_por_autores(autores, 4995, 5000)\n",
    "\n",
    "    print(\"\\nResumo:\")\n",
    "    for autor, textos in resultados.items():\n",
    "        print(f\"\\n{autor}: {len(textos)} textos\")\n",
    "        for id_texto, dados in textos.items():\n",
    "            print(f\"  {id_texto}: {dados[0]}\")"
   ],
   "id": "619fe003b0eceba6",
   "outputs": [
    {
     "name": "stdout",
     "output_type": "stream",
     "text": [
      "\n",
      "Resumo:\n",
      "\n",
      "Alberto Caeiro: 0 textos\n",
      "\n",
      "Álvaro de Campos: 0 textos\n",
      "\n",
      "Ricardo Reis: 0 textos\n",
      "\n",
      "Bernardo Soares: 0 textos\n"
     ]
    }
   ],
   "execution_count": 25
  }
 ],
 "metadata": {
  "kernelspec": {
   "display_name": "Python 3",
   "language": "python",
   "name": "python3"
  },
  "language_info": {
   "codemirror_mode": {
    "name": "ipython",
    "version": 2
   },
   "file_extension": ".py",
   "mimetype": "text/x-python",
   "name": "python",
   "nbconvert_exporter": "python",
   "pygments_lexer": "ipython2",
   "version": "2.7.6"
  }
 },
 "nbformat": 4,
 "nbformat_minor": 5
}
