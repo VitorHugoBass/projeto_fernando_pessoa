{
 "cells": [
  {
   "metadata": {
    "ExecuteTime": {
     "end_time": "2025-09-15T03:58:50.993811Z",
     "start_time": "2025-09-15T03:58:45.141612Z"
    }
   },
   "cell_type": "code",
   "source": [
    "import sqlite3\n",
    "import re\n",
    "import unicodedata\n",
    "import nltk\n",
    "from nltk.corpus import stopwords\n",
    "\n",
    "# Baixar stopwords portuguesas\n",
    "nltk.download('stopwords')\n",
    "stop_words_pt = set(stopwords.words('portuguese'))"
   ],
   "id": "b080529b0b9671b",
   "outputs": [
    {
     "name": "stderr",
     "output_type": "stream",
     "text": [
      "[nltk_data] Downloading package stopwords to\n",
      "[nltk_data]     C:\\Users\\vitor\\AppData\\Roaming\\nltk_data...\n",
      "[nltk_data]   Unzipping corpora\\stopwords.zip.\n"
     ]
    }
   ],
   "execution_count": 14
  },
  {
   "cell_type": "code",
   "id": "initial_id",
   "metadata": {
    "collapsed": true,
    "ExecuteTime": {
     "end_time": "2025-09-15T03:59:02.364655Z",
     "start_time": "2025-09-15T03:59:02.361189Z"
    }
   },
   "source": [
    "import sqlite3\n",
    "import re\n",
    "\n",
    "def limpar_texto(texto):\n",
    "    \"\"\"\n",
    "    Limpa o texto para melhorar o treinamento.\n",
    "    Remove quebras de linha, espaços extras e caracteres especiais.\n",
    "    \"\"\"\n",
    "    # Remove quebras de linha e tabs\n",
    "    texto = texto.replace('\\n', ' ').replace('\\r', ' ').replace('\\t', ' ')\n",
    "    # Remove múltiplos espaços\n",
    "    texto = re.sub(r'\\s+', ' ', texto)\n",
    "    # Remove caracteres especiais indesejados, mantendo pontuação básica\n",
    "    texto = re.sub(r'[^a-zA-ZÀ-ÿ0-9,.!?;:()\\'\" ]', '', texto)\n",
    "    # Remove espaços no início e fim\n",
    "    texto = texto.strip()\n",
    "    return texto"
   ],
   "outputs": [],
   "execution_count": 17
  },
  {
   "metadata": {
    "ExecuteTime": {
     "end_time": "2025-09-15T03:59:04.005786Z",
     "start_time": "2025-09-15T03:59:04.002496Z"
    }
   },
   "cell_type": "code",
   "source": [
    "def remover_stopwords(texto):\n",
    "    \"\"\"\n",
    "    Remove stop words do texto em português.\n",
    "    \"\"\"\n",
    "    texto = texto.lower()\n",
    "    palavras = [p for p in texto.split() if p not in stop_words_pt]\n",
    "    return ' '.join(palavras)"
   ],
   "id": "3075ab8186957fb1",
   "outputs": [],
   "execution_count": 18
  },
  {
   "metadata": {
    "ExecuteTime": {
     "end_time": "2025-09-15T03:59:05.729948Z",
     "start_time": "2025-09-15T03:59:05.725546Z"
    }
   },
   "cell_type": "code",
   "source": [
    "def limpar_e_atualizar_banco(db_path=\"projeto_fernando_pessoa/textos.db\"):\n",
    "    \"\"\"\n",
    "    Limpa todos os textos no banco, cria coluna 'texto_semSW' e atualiza os registros.\n",
    "    \"\"\"\n",
    "    conn = sqlite3.connect(db_path)\n",
    "    cursor = conn.cursor()\n",
    "\n",
    "    # Adiciona coluna 'texto_semSW' se não existir\n",
    "    try:\n",
    "        cursor.execute(\"ALTER TABLE textos ADD COLUMN texto_semSW TEXT\")\n",
    "    except sqlite3.OperationalError:\n",
    "        print(\"Coluna 'texto_semSW' já existe.\")\n",
    "\n",
    "    # Seleciona todos os textos com seus IDs\n",
    "    cursor.execute(\"SELECT id, texto FROM textos\")\n",
    "    registros = cursor.fetchall()\n",
    "\n",
    "    for registro_id, texto in registros:\n",
    "        texto_limpo = limpar_texto(texto)\n",
    "        texto_sem_sw = remover_stopwords(texto_limpo)\n",
    "        # Atualiza o registro no banco\n",
    "        cursor.execute(\n",
    "            \"UPDATE textos SET texto = ?, texto_semSW = ? WHERE id = ?\",\n",
    "            (texto_limpo, texto_sem_sw, registro_id)\n",
    "        )\n",
    "\n",
    "    conn.commit()\n",
    "    conn.close()\n",
    "    print(f\"{len(registros)} textos foram limpos e atualizados no banco com stop words removidas.\")\n"
   ],
   "id": "2ddf2a615a195f32",
   "outputs": [],
   "execution_count": 19
  },
  {
   "metadata": {
    "ExecuteTime": {
     "end_time": "2025-09-15T03:59:08.329407Z",
     "start_time": "2025-09-15T03:59:07.738094Z"
    }
   },
   "cell_type": "code",
   "source": [
    "\n",
    "# Exemplo de uso\n",
    "limpar_e_atualizar_banco()\n"
   ],
   "id": "8d7bd75bf9dde758",
   "outputs": [
    {
     "name": "stdout",
     "output_type": "stream",
     "text": [
      "1180 textos foram limpos e atualizados no banco com stop words removidas.\n"
     ]
    }
   ],
   "execution_count": 20
  }
 ],
 "metadata": {
  "kernelspec": {
   "display_name": "Python 3",
   "language": "python",
   "name": "python3"
  },
  "language_info": {
   "codemirror_mode": {
    "name": "ipython",
    "version": 2
   },
   "file_extension": ".py",
   "mimetype": "text/x-python",
   "name": "python",
   "nbconvert_exporter": "python",
   "pygments_lexer": "ipython2",
   "version": "2.7.6"
  }
 },
 "nbformat": 4,
 "nbformat_minor": 5
}
