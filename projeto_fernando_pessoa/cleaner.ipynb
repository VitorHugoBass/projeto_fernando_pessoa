{
 "cells": [
  {
   "cell_type": "code",
   "id": "initial_id",
   "metadata": {
    "collapsed": true,
    "ExecuteTime": {
     "end_time": "2025-09-15T03:10:25.873573Z",
     "start_time": "2025-09-15T03:10:25.869923Z"
    }
   },
   "source": [
    "import sqlite3\n",
    "import re\n",
    "\n",
    "def limpar_texto(texto):\n",
    "    \"\"\"\n",
    "    Limpa o texto para melhorar o treinamento.\n",
    "    Remove quebras de linha, espaços extras e caracteres especiais.\n",
    "    \"\"\"\n",
    "    # Remove quebras de linha e tabs\n",
    "    texto = texto.replace('\\n', ' ').replace('\\r', ' ').replace('\\t', ' ')\n",
    "    # Remove múltiplos espaços\n",
    "    texto = re.sub(r'\\s+', ' ', texto)\n",
    "    # Remove caracteres especiais indesejados, mantendo pontuação básica\n",
    "    texto = re.sub(r'[^a-zA-ZÀ-ÿ0-9,.!?;:()\\'\" ]', '', texto)\n",
    "    # Remove espaços no início e fim\n",
    "    texto = texto.strip()\n",
    "    return texto"
   ],
   "outputs": [],
   "execution_count": 6
  },
  {
   "metadata": {
    "ExecuteTime": {
     "end_time": "2025-09-15T03:12:03.070148Z",
     "start_time": "2025-09-15T03:12:03.065911Z"
    }
   },
   "cell_type": "code",
   "source": [
    "\n",
    "def limpar_e_atualizar_banco(db_path=\"projeto_fernando_pessoa/textos.db\"):\n",
    "    \"\"\"\n",
    "    Limpa todos os textos no banco e atualiza os registros.\n",
    "    \"\"\"\n",
    "    conn = sqlite3.connect(db_path)\n",
    "    cursor = conn.cursor()\n",
    "\n",
    "    # Seleciona todos os textos com seus IDs\n",
    "    cursor.execute(\"SELECT id, texto FROM textos\")\n",
    "    registros = cursor.fetchall()\n",
    "\n",
    "    for registro_id, texto in registros:\n",
    "        texto_limpo = limpar_texto(texto)\n",
    "        # Atualiza o registro no banco\n",
    "        cursor.execute(\"UPDATE textos SET texto = ? WHERE id = ?\", (texto_limpo, registro_id))\n",
    "\n",
    "    conn.commit()\n",
    "    conn.close()\n",
    "    print(f\"{len(registros)} textos foram limpos e atualizados no banco.\")"
   ],
   "id": "2ddf2a615a195f32",
   "outputs": [],
   "execution_count": 11
  },
  {
   "metadata": {
    "ExecuteTime": {
     "end_time": "2025-09-15T03:11:35.683106Z",
     "start_time": "2025-09-15T03:11:35.427706Z"
    }
   },
   "cell_type": "code",
   "source": [
    "\n",
    "# Exemplo de uso\n",
    "limpar_e_atualizar_banco()\n"
   ],
   "id": "8d7bd75bf9dde758",
   "outputs": [
    {
     "name": "stdout",
     "output_type": "stream",
     "text": [
      "1180 textos foram limpos e atualizados no banco.\n"
     ]
    }
   ],
   "execution_count": 10
  }
 ],
 "metadata": {
  "kernelspec": {
   "display_name": "Python 3",
   "language": "python",
   "name": "python3"
  },
  "language_info": {
   "codemirror_mode": {
    "name": "ipython",
    "version": 2
   },
   "file_extension": ".py",
   "mimetype": "text/x-python",
   "name": "python",
   "nbconvert_exporter": "python",
   "pygments_lexer": "ipython2",
   "version": "2.7.6"
  }
 },
 "nbformat": 4,
 "nbformat_minor": 5
}
