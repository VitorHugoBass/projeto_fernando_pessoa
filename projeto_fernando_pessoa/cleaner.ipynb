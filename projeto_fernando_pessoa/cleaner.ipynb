{
 "cells": [
  {
   "metadata": {
    "ExecuteTime": {
     "end_time": "2025-09-15T23:12:49.344892Z",
     "start_time": "2025-09-15T23:12:49.332383Z"
    }
   },
   "cell_type": "code",
   "source": [
    "import sqlite3\n",
    "import re\n",
    "import unicodedata\n",
    "import nltk\n",
    "from nltk.corpus import stopwords\n",
    "from wordcloud import WordCloud\n",
    "import matplotlib.pyplot as plt\n",
    "\n",
    "# Baixar stopwords portuguesas\n",
    "nltk.download('stopwords')\n",
    "stop_words_pt = set(stopwords.words('portuguese'))"
   ],
   "id": "6752a6585b492216",
   "outputs": [
    {
     "name": "stderr",
     "output_type": "stream",
     "text": [
      "[nltk_data] Downloading package stopwords to\n",
      "[nltk_data]     C:\\Users\\vitor\\AppData\\Roaming\\nltk_data...\n",
      "[nltk_data]   Package stopwords is already up-to-date!\n"
     ]
    }
   ],
   "execution_count": 17
  },
  {
   "metadata": {
    "ExecuteTime": {
     "end_time": "2025-09-15T23:12:51.202789Z",
     "start_time": "2025-09-15T23:12:51.199640Z"
    }
   },
   "cell_type": "code",
   "source": [
    "import sqlite3\n",
    "import re\n",
    "\n",
    "def limpar_texto(texto):\n",
    "    \"\"\"\n",
    "    Limpa o texto para melhorar o treinamento.\n",
    "    Remove quebras de linha, espaços extras e caracteres especiais.\n",
    "    \"\"\"\n",
    "    # Remove quebras de linha e tabs\n",
    "    texto = texto.replace('\\n', ' ').replace('\\r', ' ').replace('\\t', ' ')\n",
    "    # Remove múltiplos espaços\n",
    "    texto = re.sub(r'\\s+', ' ', texto)\n",
    "    # Remove caracteres especiais indesejados, mantendo pontuação básica\n",
    "    texto = re.sub(r'[^a-zA-ZÀ-ÿ0-9,.!?;:()\\'\" ]', '', texto)\n",
    "    # Remove espaços no início e fim\n",
    "    texto = texto.strip()\n",
    "    return texto"
   ],
   "id": "5406b883ae815333",
   "outputs": [],
   "execution_count": 18
  },
  {
   "metadata": {
    "ExecuteTime": {
     "end_time": "2025-09-15T23:12:52.494546Z",
     "start_time": "2025-09-15T23:12:52.492094Z"
    }
   },
   "cell_type": "code",
   "source": [
    "def remover_stopwords(texto):\n",
    "    \"\"\"\n",
    "    Remove stop words do texto em português.\n",
    "    \"\"\"\n",
    "    texto = texto.lower()\n",
    "    palavras = [p for p in texto.split() if p not in stop_words_pt]\n",
    "    return ' '.join(palavras)"
   ],
   "id": "6897ff9383eda3bf",
   "outputs": [],
   "execution_count": 19
  },
  {
   "metadata": {
    "ExecuteTime": {
     "end_time": "2025-09-15T23:12:53.907598Z",
     "start_time": "2025-09-15T23:12:53.904253Z"
    }
   },
   "cell_type": "code",
   "source": [
    "def limpar_e_atualizar_banco(db_path=\"textos.db\"):\n",
    "    \"\"\"\n",
    "    Limpa todos os textos no banco, cria coluna 'texto_semSW' e atualiza os registros.\n",
    "    \"\"\"\n",
    "    conn = sqlite3.connect(db_path)\n",
    "    cursor = conn.cursor()\n",
    "\n",
    "    # Adiciona coluna 'texto_semSW' se não existir\n",
    "    try:\n",
    "        cursor.execute(\"ALTER TABLE textos ADD COLUMN texto_semSW TEXT\")\n",
    "    except sqlite3.OperationalError:\n",
    "        print(\"Coluna 'texto_semSW' já existe.\")\n",
    "\n",
    "    # Seleciona todos os textos com seus IDs\n",
    "    cursor.execute(\"SELECT id, texto FROM textos\")\n",
    "    registros = cursor.fetchall()\n",
    "\n",
    "    for registro_id, texto in registros:\n",
    "        texto_limpo = limpar_texto(texto)\n",
    "        texto_sem_sw = remover_stopwords(texto_limpo)\n",
    "        # Atualiza o registro no banco\n",
    "        cursor.execute(\n",
    "            \"UPDATE textos SET texto = ?, texto_semSW = ? WHERE id = ?\",\n",
    "            (texto_limpo, texto_sem_sw, registro_id)\n",
    "        )\n",
    "\n",
    "    conn.commit()\n",
    "    conn.close()\n",
    "    print(f\"{len(registros)} textos foram limpos e atualizados no banco com stop words removidas.\")\n"
   ],
   "id": "c04cd4e440f7b2d6",
   "outputs": [],
   "execution_count": 20
  },
  {
   "metadata": {},
   "cell_type": "code",
   "outputs": [],
   "execution_count": null,
   "source": [
    "# Exemplo de uso\n",
    "limpar_e_atualizar_banco()"
   ],
   "id": "9ed474e8941f5bf0"
  },
  {
   "metadata": {
    "ExecuteTime": {
     "end_time": "2025-09-15T23:12:58.475127Z",
     "start_time": "2025-09-15T23:12:56.467718Z"
    }
   },
   "cell_type": "code",
   "source": [
    "def gerar_nuvem_palavras_autores(db_path=\"textos.db\"):\n",
    "    \"\"\"\n",
    "    Gera uma nuvem de palavras para cada autor a partir dos textos sem stopwords.\n",
    "    \"\"\"\n",
    "    conn = sqlite3.connect(db_path)\n",
    "    cursor = conn.cursor()\n",
    "\n",
    "    cursor.execute(\"SELECT DISTINCT autor FROM textos\")\n",
    "    autores = [row[0] for row in cursor.fetchall()]\n",
    "\n",
    "    for autor in autores:\n",
    "        cursor.execute(\"SELECT texto_semSW FROM textos WHERE autor = ?\", (autor,))\n",
    "        textos = \" \".join([row[0] for row in cursor.fetchall()])\n",
    "\n",
    "        wordcloud = WordCloud(width=800, height=400, background_color='white').generate(textos)\n",
    "\n",
    "        plt.figure(figsize=(10, 5))\n",
    "        plt.imshow(wordcloud, interpolation='bilinear')\n",
    "        plt.title(f'Nuvem de Palavras - {autor}')\n",
    "        plt.axis('off')\n",
    "        plt.savefig(f'{autor}_wordcloud.png')\n",
    "        plt.close()\n",
    "\n",
    "    conn.close()\n",
    "    print(\"Nuvens de palavras geradas para cada autor.\")\n",
    "\n",
    "# %%\n",
    "gerar_nuvem_palavras_autores()"
   ],
   "id": "ddabf1b6e459634a",
   "outputs": [
    {
     "name": "stdout",
     "output_type": "stream",
     "text": [
      "Nuvens de palavras geradas para cada autor.\n"
     ]
    }
   ],
   "execution_count": 21
  }
 ],
 "metadata": {
  "kernelspec": {
   "display_name": "Python 3",
   "language": "python",
   "name": "python3"
  },
  "language_info": {
   "codemirror_mode": {
    "name": "ipython",
    "version": 2
   },
   "file_extension": ".py",
   "mimetype": "text/x-python",
   "name": "python",
   "nbconvert_exporter": "python",
   "pygments_lexer": "ipython2",
   "version": "2.7.6"
  }
 },
 "nbformat": 4,
 "nbformat_minor": 5
}
